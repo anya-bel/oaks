{
 "cells": [
  {
   "cell_type": "code",
   "execution_count": 1,
   "metadata": {},
   "outputs": [],
   "source": [
    "import json"
   ]
  },
  {
   "cell_type": "code",
   "execution_count": 17,
   "metadata": {},
   "outputs": [],
   "source": [
    "\n",
    "with open('triples.json') as f:\n",
    "    data = json.load(f)\n",
    "i = list(data.keys())[0]\n",
    "data = data[i]"
   ]
  },
  {
   "cell_type": "code",
   "execution_count": 60,
   "metadata": {},
   "outputs": [],
   "source": [
    "metric = 'contrastive_dis'"
   ]
  },
  {
   "cell_type": "code",
   "execution_count": 61,
   "metadata": {},
   "outputs": [],
   "source": [
    "scores = dict()\n",
    "for i in range(len(data)):\n",
    "    scores[i] = data[i][metric]\n",
    "    if data[i][metric] == max_metric:\n",
    "        print(data[i][metric], i)"
   ]
  },
  {
   "cell_type": "code",
   "execution_count": 66,
   "metadata": {},
   "outputs": [],
   "source": [
    "max_metric = max(scores.values())"
   ]
  },
  {
   "cell_type": "code",
   "execution_count": 67,
   "metadata": {},
   "outputs": [],
   "source": [
    "k = list(scores.keys())[list(scores.values()).index(max_metric)]"
   ]
  },
  {
   "cell_type": "code",
   "execution_count": 68,
   "metadata": {},
   "outputs": [
    {
     "data": {
      "text/plain": [
       "{'subject': 'A Member',\n",
       " 'subject_char_span': [54, 62],\n",
       " 'relation': 'of the',\n",
       " 'object': 'Who',\n",
       " 'object_char_span': [117, 120],\n",
       " 'sentence': '$input_txt:$ Simone de Beauvoir was a French writer and feminist , a member of the intellectual fellowship of philosopher-writers who have given a literary transcription to the themes of existentialism .',\n",
       " 'score': 0.0168847581371665,\n",
       " 'offset': 0,\n",
       " 'contrastive_dis': 0.09279093146324158}"
      ]
     },
     "execution_count": 68,
     "metadata": {},
     "output_type": "execute_result"
    }
   ],
   "source": [
    "data[k]"
   ]
  },
  {
   "cell_type": "code",
   "execution_count": null,
   "metadata": {},
   "outputs": [],
   "source": []
  }
 ],
 "metadata": {
  "interpreter": {
   "hash": "916dbcbb3f70747c44a77c7bcd40155683ae19c65e1c03b4aa3499c5328201f1"
  },
  "kernelspec": {
   "display_name": "Python 3.8.10 64-bit",
   "name": "python3"
  },
  "language_info": {
   "codemirror_mode": {
    "name": "ipython",
    "version": 3
   },
   "file_extension": ".py",
   "mimetype": "text/x-python",
   "name": "python",
   "nbconvert_exporter": "python",
   "pygments_lexer": "ipython3",
   "version": "3.8.10"
  },
  "orig_nbformat": 4
 },
 "nbformat": 4,
 "nbformat_minor": 2
}
